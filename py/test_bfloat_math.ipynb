{
 "cells": [
  {
   "cell_type": "code",
   "execution_count": 25,
   "metadata": {},
   "outputs": [
    {
     "name": "stdout",
     "output_type": "stream",
     "text": [
      "0011110111111100\n",
      "3DFC\n",
      "0011110111111100\n",
      "3DFC\n"
     ]
    }
   ],
   "source": [
    "from bfloat16 import bfloat16\n",
    "import random\n",
    "\n",
    "def bin_to_bfloat16(binary_str):\n",
    "    sign = int(binary_str[0], 2)\n",
    "    exp_with_bias = int(binary_str[1:9], 2)  # Convert exponent and apply bias\n",
    "    mantissa = int(binary_str[9:], 2) / 128.0  # Convert mantissa and scale\n",
    "\n",
    "    pos_0 = (sign == 0 and exp_with_bias == 0 and mantissa == 0)\n",
    "    neg_0 = (sign == 1 and exp_with_bias == 0 and mantissa == 0)\n",
    "    NaN = (exp_with_bias == 255 and mantissa != 0)\n",
    "\n",
    "    float_value = float('nan') if NaN else 0.0 if pos_0 else -0.0 if neg_0 else ((-1)**sign) * (1 + mantissa) * (2 ** (exp_with_bias - 127))\n",
    "    \n",
    "    return bfloat16(float_value)\n",
    "\n",
    "a_1234_div_10000 = bfloat16(1234.0/10000.0)\n",
    "print(a_1234_div_10000.convert2bin())\n",
    "print(a_1234_div_10000.convert2hex())\n",
    "test_bf = bin_to_bfloat16('0011110111111100')\n",
    "print(test_bf.convert2bin())\n",
    "print(test_bf.convert2hex())"
   ]
  },
  {
   "cell_type": "code",
   "execution_count": 27,
   "metadata": {},
   "outputs": [
    {
     "name": "stdout",
     "output_type": "stream",
     "text": [
      "neg_inf: FF80, 1111111110000000\n",
      "pos_inf: 7F80, 0111111110000000\n",
      "NaN:     7FC0, 0111111111000000\n",
      "neg_0:   8000, 1000000000000000\n",
      "pos_0:   0000, 0000000000000000\n"
     ]
    }
   ],
   "source": [
    "# def get_pos_inf():\n",
    "#     return bin_to_bfloat16('0111111110000000')\n",
    "# def get_neg_inf():\n",
    "#     return bin_to_bfloat16('1111111110000000')\n",
    "# def get_NaN():\n",
    "#     return bin_to_bfloat16('0111111110000111')\n",
    "# def get_pos_zero():\n",
    "#     return bin_to_bfloat16('0000000000000000')\n",
    "# def get_neg_zero():\n",
    "#     return bin_to_bfloat16('1000000000000000')\n",
    "\n",
    "def get_pos_inf():\n",
    "    return bfloat16(float('inf'))\n",
    "def get_neg_inf():\n",
    "    return bfloat16(float('-inf'))\n",
    "def get_NaN():\n",
    "    return bfloat16(float('nan'))\n",
    "def get_pos_zero():\n",
    "    return bfloat16(0.0)\n",
    "def get_neg_zero():\n",
    "    return bfloat16(-0.0)\n",
    "\n",
    "print(f'neg_inf: {get_neg_inf().convert2hex()}, {get_neg_inf().convert2bin()}')\n",
    "print(f'pos_inf: {get_pos_inf().convert2hex()}, {get_pos_inf().convert2bin()}')\n",
    "print(f'NaN:     {get_NaN().convert2hex()}, {get_NaN().convert2bin()}')\n",
    "print(f'neg_0:   {get_neg_zero().convert2hex()}, {get_neg_zero().convert2bin()}')\n",
    "print(f'pos_0:   {get_pos_zero().convert2hex()}, {get_pos_zero().convert2bin()}')\n"
   ]
  },
  {
   "cell_type": "code",
   "execution_count": 36,
   "metadata": {},
   "outputs": [
    {
     "name": "stdout",
     "output_type": "stream",
     "text": [
      "NaN x b   = 7FC0 = 0 | 11111111 | 1000000\n",
      "+Inf x +0 = FFC0 = 1 | 11111111 | 1000000\n",
      "+Inf x -0 = FFC0 = 1 | 11111111 | 1000000\n",
      "-Inf x +0 = FFC0 = 1 | 11111111 | 1000000\n",
      "-Inf x -0 = FFC0 = 1 | 11111111 | 1000000\n"
     ]
    }
   ],
   "source": [
    "def splice_bfloat_binary(str):\n",
    "    sign = str[:1]\n",
    "    exp = str[1:9]\n",
    "    frac = str[9:]\n",
    "\n",
    "    return sign, exp, frac\n",
    "\n",
    "def mult_test(test_case='NaN'):\n",
    "    if test_case == 'NaN':\n",
    "        a = get_NaN()\n",
    "        b = bfloat16(1234.0/10000.0)\n",
    "        c = a * b\n",
    "        s, e, f = splice_bfloat_binary(c.convert2bin())\n",
    "        print(f'NaN x b   = {c.convert2hex()} = {s} | {e} | {f}')\n",
    "    elif test_case == 'pos_inf_x_pos_0':\n",
    "        a = get_pos_inf()\n",
    "        b = get_pos_zero()\n",
    "        c = a * b\n",
    "        s, e, f = splice_bfloat_binary(c.convert2bin())\n",
    "        print(f'+Inf x +0 = {c.convert2hex()} = {s} | {e} | {f}')\n",
    "    elif test_case == 'pos_inf_x_neg_0':\n",
    "        a = get_pos_inf()\n",
    "        b = get_neg_zero()\n",
    "        c = a * b\n",
    "        s, e, f = splice_bfloat_binary(c.convert2bin())\n",
    "        print(f'+Inf x -0 = {c.convert2hex()} = {s} | {e} | {f}')\n",
    "    elif test_case == 'neg_inf_x_pos_0':\n",
    "        a = get_neg_inf()\n",
    "        b = get_pos_zero()\n",
    "        c = a * b\n",
    "        s, e, f = splice_bfloat_binary(c.convert2bin())\n",
    "        print(f'-Inf x +0 = {c.convert2hex()} = {s} | {e} | {f}')\n",
    "    elif test_case == 'neg_inf_x_neg_0':\n",
    "        a = get_neg_inf()\n",
    "        b = get_neg_zero()\n",
    "        c = a * b\n",
    "        s, e, f = splice_bfloat_binary(c.convert2bin())\n",
    "        print(f'-Inf x -0 = {c.convert2hex()} = {s} | {e} | {f}')\n",
    "    else:\n",
    "        print('bad input')\n",
    "\n",
    "mult_test(test_case='NaN')\n",
    "mult_test(test_case='pos_inf_x_pos_0')\n",
    "mult_test(test_case='pos_inf_x_neg_0')\n",
    "mult_test(test_case='neg_inf_x_pos_0')\n",
    "mult_test(test_case='neg_inf_x_neg_0')"
   ]
  }
 ],
 "metadata": {
  "kernelspec": {
   "display_name": "Python 3",
   "language": "python",
   "name": "python3"
  },
  "language_info": {
   "codemirror_mode": {
    "name": "ipython",
    "version": 3
   },
   "file_extension": ".py",
   "mimetype": "text/x-python",
   "name": "python",
   "nbconvert_exporter": "python",
   "pygments_lexer": "ipython3",
   "version": "3.12.3"
  }
 },
 "nbformat": 4,
 "nbformat_minor": 2
}
